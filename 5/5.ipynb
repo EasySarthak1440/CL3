{
 "cells": [
  {
   "cell_type": "code",
   "execution_count": 3,
   "metadata": {},
   "outputs": [],
   "source": [
    "import numpy as np\n",
    "import tensorflow as tf\n",
    "\n",
    "# Define neural network architecture\n",
    "def create_model(input_shape, output_shape):\n",
    "    model = tf.keras.Sequential([\n",
    "        tf.keras.layers.Dense(64, activation='relu', input_shape=input_shape),\n",
    "        tf.keras.layers.Dense(32, activation='relu'),\n",
    "        tf.keras.layers.Dense(output_shape)\n",
    "    ])\n",
    "    return model\n",
    "\n",
    "# Objective function to minimize (example: mean squared error)\n",
    "def objective_function(y_true, y_pred):\n",
    "    return tf.reduce_mean(tf.square(y_true - y_pred))\n",
    "\n",
    "# Genetic Algorithm class\n",
    "class GeneticAlgorithm:\n",
    "    def __init__(self, population_size, chromosome_length, mutation_rate):\n",
    "        self.population_size = population_size\n",
    "        self.chromosome_length = chromosome_length\n",
    "        self.mutation_rate = mutation_rate\n",
    "        self.population = np.random.rand(population_size, chromosome_length)\n",
    "\n",
    "    def crossover(self, parent1, parent2):\n",
    "        crossover_point = np.random.randint(0, self.chromosome_length)\n",
    "        child1 = np.concatenate((parent1[:crossover_point], parent2[crossover_point:]))\n",
    "        child2 = np.concatenate((parent2[:crossover_point], parent1[crossover_point:]))\n",
    "        return child1, child2\n",
    "\n",
    "    def mutate(self, chromosome):\n",
    "        for i in range(self.chromosome_length):\n",
    "            if np.random.rand() < self.mutation_rate:\n",
    "                chromosome[i] = np.random.rand()\n",
    "        return chromosome\n",
    "\n",
    "    def evolve(self, fitness_scores):\n",
    "        new_population = np.zeros_like(self.population)\n",
    "        \n",
    "        # Normalize fitness scores to sum to 1\n",
    "        fitness_scores /= fitness_scores.sum()\n",
    "        \n",
    "        for i in range(self.population_size // 2):\n",
    "            # Select parents for the next generation\n",
    "            parent1_idx = np.random.choice(range(self.population_size), p=fitness_scores)\n",
    "            parent2_idx = np.random.choice(range(self.population_size), p=fitness_scores)\n",
    "            parent1 = self.population[parent1_idx]\n",
    "            parent2 = self.population[parent2_idx]\n",
    "\n",
    "            child1, child2 = self.crossover(parent1, parent2)\n",
    "            child1 = self.mutate(child1)\n",
    "            child2 = self.mutate(child2)\n",
    "\n",
    "            new_population[i] = child1\n",
    "            new_population[self.population_size - i - 1] = child2\n",
    "\n",
    "        self.population = new_population\n",
    "\n",
    "# Example usage\n",
    "# Define problem parameters\n",
    "input_shape = (10,)  # Example: 10 features\n",
    "output_shape = 1     # Example: 1 output (prediction)\n",
    "\n",
    "# Create neural network model\n",
    "model = create_model(input_shape, output_shape)\n",
    "\n",
    "# Initialize genetic algorithm parameters\n",
    "population_size = 50\n",
    "chromosome_length = sum(np.size(p) for p in model.trainable_variables)\n",
    "mutation_rate = 0.1\n",
    "generations = 50\n",
    "\n",
    "# Initialize genetic algorithm\n",
    "ga = GeneticAlgorithm(population_size, chromosome_length, mutation_rate)\n",
    "\n",
    "# Train hybrid model using genetic algorithm\n",
    "for generation in range(generations):\n",
    "    # Evaluate fitness of each chromosome using neural network\n",
    "    fitness_scores = np.random.rand(population_size)  # Example fitness scores\n",
    "\n",
    "    # Select parents for the next generation\n",
    "    ga.evolve(fitness_scores)\n",
    "\n",
    "# After training, extract best parameters and update neural network model\n",
    "best_chromosome = ga.population[np.argmax(fitness_scores)]\n",
    "# Update neural network weights with best parameters\n"
   ]
  },
  {
   "cell_type": "code",
   "execution_count": 4,
   "metadata": {},
   "outputs": [
    {
     "name": "stdout",
     "output_type": "stream",
     "text": [
      "\u001b[1m1/1\u001b[0m \u001b[32m━━━━━━━━━━━━━━━━━━━━\u001b[0m\u001b[37m\u001b[0m \u001b[1m0s\u001b[0m 165ms/step\n",
      "Prediction: [[0.1856919]]\n"
     ]
    }
   ],
   "source": [
    "# Example of how to use the trained model for prediction\n",
    "input_data = np.random.rand(1, 10)  # Example input data with shape (1, 10)\n",
    "prediction = model.predict(input_data)\n",
    "print(\"Prediction:\", prediction)\n"
   ]
  },
  {
   "cell_type": "code",
   "execution_count": null,
   "metadata": {},
   "outputs": [],
   "source": []
  }
 ],
 "metadata": {
  "kernelspec": {
   "display_name": "base",
   "language": "python",
   "name": "python3"
  },
  "language_info": {
   "codemirror_mode": {
    "name": "ipython",
    "version": 3
   },
   "file_extension": ".py",
   "mimetype": "text/x-python",
   "name": "python",
   "nbconvert_exporter": "python",
   "pygments_lexer": "ipython3",
   "version": "3.11.7"
  }
 },
 "nbformat": 4,
 "nbformat_minor": 2
}
