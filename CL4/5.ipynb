{
 "cells": [
  {
   "cell_type": "code",
   "execution_count": 1,
   "id": "b0194089-21ea-45a4-9f03-62299cfd86e0",
   "metadata": {},
   "outputs": [],
   "source": [
    "import findspark\n",
    "findspark.init()"
   ]
  },
  {
   "cell_type": "code",
   "execution_count": 2,
   "id": "d9367f08-42c4-4aa9-a6ef-dfb82fd1e279",
   "metadata": {},
   "outputs": [],
   "source": [
    "import pyspark\n"
   ]
  },
  {
   "cell_type": "code",
   "execution_count": 3,
   "id": "c14d8c38-9439-4382-8537-4a32c99b928a",
   "metadata": {},
   "outputs": [
    {
     "name": "stdout",
     "output_type": "stream",
     "text": [
      "Number of male passengers who died: 468\n",
      "Average age of male passengers who died: 24.321581196581196\n",
      "Number of deceased passengers in each class among females:\n",
      "+------+-----+\n",
      "|Pclass|count|\n",
      "+------+-----+\n",
      "|     3|   72|\n",
      "|     2|    6|\n",
      "|     1|    3|\n",
      "+------+-----+\n",
      "\n"
     ]
    }
   ],
   "source": [
    "from pyspark.sql import SparkSession\n",
    "import seaborn as sns\n",
    "\n",
    "# Create a SparkSession\n",
    "spark = SparkSession.builder \\\n",
    "    .appName(\"TitanicAnalysis\") \\\n",
    "    .getOrCreate()\n",
    "\n",
    "# Load the Titanic dataset\n",
    "titanic_df = spark.createDataFrame(sns.load_dataset(\"titanic\"))\n",
    "\n",
    "titanic_df = titanic_df.fillna({'Age': 0})\n",
    "\n",
    "# Filter data for male passengers who died and remove null values from Age column\n",
    "male_deceased = titanic_df.filter((titanic_df[\"Sex\"] == \"male\") & (titanic_df[\"Survived\"] == 0) & titanic_df[\"Age\"].isNotNull())\n",
    "\n",
    "# Check if there are any male passengers who died\n",
    "male_deceased_count = male_deceased.count()\n",
    "\n",
    "if male_deceased_count > 0:\n",
    "    # Calculate the average age of male passengers who died\n",
    "# Calculate the average age of male passengers who died\n",
    "    male_deceased_age_avg = male_deceased.agg({\"Age\": \"avg\"}).collect()[0][0]\n",
    "    print(\"Number of male passengers who died:\", male_deceased_count)\n",
    "    print(\"Average age of male passengers who died:\", male_deceased_age_avg)\n",
    "else:\n",
    "    print(\"No male passengers found who died in the dataset.\")\n",
    "    \n",
    "female_deceased_by_class = titanic_df.filter((titanic_df[\"Sex\"] == \"female\") & (titanic_df[\"Survived\"] == 0)).groupBy(\"Pclass\").count()\n",
    "\n",
    "# Display results\n",
    "print(\"Number of deceased passengers in each class among females:\")\n",
    "female_deceased_by_class.show()\n",
    "# Stop SparkSession\n",
    "spark.stop()\n"
   ]
  },
  {
   "cell_type": "code",
   "execution_count": null,
   "id": "ed9cee8e-e8c0-4093-80b7-53f483188d80",
   "metadata": {},
   "outputs": [],
   "source": []
  }
 ],
 "metadata": {
  "kernelspec": {
   "display_name": "Python 3 (ipykernel)",
   "language": "python",
   "name": "python3"
  },
  "language_info": {
   "codemirror_mode": {
    "name": "ipython",
    "version": 3
   },
   "file_extension": ".py",
   "mimetype": "text/x-python",
   "name": "python",
   "nbconvert_exporter": "python",
   "pygments_lexer": "ipython3",
   "version": "3.11.7"
  }
 },
 "nbformat": 4,
 "nbformat_minor": 5
}
